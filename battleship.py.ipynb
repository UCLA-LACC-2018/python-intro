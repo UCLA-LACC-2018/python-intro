{
 "cells": [
  {
   "cell_type": "code",
   "execution_count": 33,
   "metadata": {},
   "outputs": [
    {
     "name": "stdout",
     "output_type": "stream",
     "text": [
      "  1    2    3    4    5\n",
      "[[0], [0], [0], [0], [0]]\n",
      "[[0], [0], [0], [0], [0]]\n",
      "[[0], [0], [0], [0], [0]]\n",
      "[[0], [0], [0], [0], [0]]\n",
      "[[0], [0], [0], [0], [0]]\n"
     ]
    }
   ],
   "source": [
    "row1 = [[0],[0],[0],[0],[0]]\n",
    "row2 = [[0],[0],[0],[0],[0]]\n",
    "row3 = [[0],[0],[0],[0],[0]]\n",
    "row4 = [[0],[0],[0],[0],[0]]\n",
    "row5 = [[0],[0],[0],[0],[0]]\n",
    "keyrow =\"  1    2    3    4    5\"\n",
    "\n",
    "def gameBoard():\n",
    "    print(keyrow)\n",
    "    print(row1)\n",
    "    print(row2)\n",
    "    print(row3)\n",
    "    print(row4)\n",
    "    print(row5)\n",
    "gameBoard()\n",
    "\n",
    "def ship (column, row)\n",
    "    "
   ]
  }
 ],
 "metadata": {
  "kernelspec": {
   "display_name": "Python 2",
   "language": "python",
   "name": "python2"
  }
 },
 "nbformat": 4,
 "nbformat_minor": 2
}
