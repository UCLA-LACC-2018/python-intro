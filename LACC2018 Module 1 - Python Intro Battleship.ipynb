{
 "cells": [
  {
   "cell_type": "code",
   "execution_count": 20,
   "metadata": {
    "slideshow": {
     "slide_type": "fragment"
    }
   },
   "outputs": [
    {
     "name": "stdout",
     "output_type": "stream",
     "text": [
      "Welcome to Battleship!\n",
      "\n",
      "Player v Player (PvP) or Player v Computer? (PvC): PvC\n",
      "  A  B C  D E  F  G H  I J\n",
      "0 ☐ ☐ ☐ ☐ ☐ ☐ ☐ ☐ ☐ ☐\n",
      "1 ☐ ☐ ☐ ☐ ☐ ☐ ☐ ☐ ☐ ☐\n",
      "2 ☐ ☐ ☐ ☐ ☐ ☐ ☐ ☐ ☐ ☐\n",
      "3 ☐ ☐ ☐ ☐ ☐ ☐ ☐ ☐ ☐ ☐\n",
      "4 ☐ ☐ ☐ ☐ ☐ ☐ ☐ ☐ ☐ ☐\n",
      "5 ☐ ☐ ☐ ☐ ☐ ☐ ☐ ☐ ☐ ☐\n",
      "6 ☐ ☐ ☐ ☐ ☐ ☐ ☐ ☐ ☐ ☐\n",
      "7 ☐ ☐ ☐ ☐ ☐ ☐ ☐ ☐ ☐ ☐\n",
      "8 ☐ ☐ ☐ ☐ ☐ ☐ ☐ ☐ ☐ ☐\n",
      "9 ☐ ☐ ☐ ☐ ☐ ☐ ☐ ☐ ☐ ☐\n"
     ]
    }
   ],
   "source": [
    "import time\n",
    "\n",
    "def Mode(Mode1):\n",
    "    if(Mode1 == \"PvP\"):\n",
    "        print(\"Hi\")\n",
    "    if(Mode1 == \"PvC\"):\n",
    "        PlayerSetUp()\n",
    "        Matrix = [[0 for x in range(10)] for y in range(10)] \n",
    "def PlayerSetUp():\n",
    "    PlayerBoard()\n",
    "def PlayerBoard():\n",
    "    print(\"  A  B C  D E  F  G H  I J\")\n",
    "    for x in range (10):\n",
    "        print(str(x) + \" ☐ ☐ ☐ ☐ ☐ ☐ ☐ ☐ ☐ ☐\")\n",
    "\n",
    "print(\"Welcome to Battleship!\")\n",
    "print(\"\")\n",
    "time.sleep(1)\n",
    "Mode1 = input(\"Player v Player (PvP) or Player v Computer? (PvC): \")\n",
    "Mode(Mode1)"
   ]
  }
 ],
 "metadata": {
  "kernelspec": {
   "display_name": "Python 3.6",
   "language": "python",
   "name": "python36"
  }
 },
 "nbformat": 4,
 "nbformat_minor": 2
}
