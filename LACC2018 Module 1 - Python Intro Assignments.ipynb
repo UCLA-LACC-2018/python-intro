{
 "cells": [
  {
   "cell_type": "markdown",
   "metadata": {},
   "source": [
    "# LACC 2018 Module 1\n",
    "# Python Introduction\n",
    "\n",
    "This is your jupyter notebook for the first module. Feel free to edit it to your liking (notes, comments etc.)\n",
    "\n",
    "## Assignment #1\n",
    "## English Word to Pig Latin Translator\n",
    "\n",
    "* Pig Latin is a language game, where you move the first letter of the word to the end and add \"ay.\" So \"Python\" becomes \"ythonpay.\"\n",
    "\n",
    "* Prompt the user with the phrase “Enter a word:”, and then output the word entered by the user translated into Pig Latin in lowercase\n",
    "\n",
    "* If the user’s entry is empty, non-alphabetical, or has multiple word the output should be “Error: incorrect input”."
   ]
  },
  {
   "cell_type": "code",
   "execution_count": 32,
   "metadata": {},
   "outputs": [
    {
     "name": "stdout",
     "output_type": "stream",
     "text": [
      "Input a string: celeste\n",
      "elestecay\n"
     ]
    }
   ],
   "source": [
    "def checkForError(input):\n",
    "    #code to check erraneous input\n",
    "    if input == \"\": \n",
    "        print ('Error')\n",
    "        return True\n",
    "    if (input.isalpha()):\n",
    "        return False\n",
    "    if input.find(\" \"):\n",
    "        print ('Error')\n",
    "        return True \n",
    "    return False \n",
    "    \n",
    "def translateToPigLatin(input):\n",
    "    #code to convert a word into pig latin\n",
    "    error_code = checkForError(input)\n",
    "    if error_code == False:\n",
    "        input = input.lower()\n",
    "        first = input[0]\n",
    "        new_word = input[1:] + first + \"ay\"\n",
    "        print (new_word)\n",
    "    \n",
    "# get user input\n",
    "user_input = input('Input a string: ')\n",
    "translateToPigLatin(user_input)\n",
    "\n",
    "\n",
    "    \n"
   ]
  },
  {
   "cell_type": "markdown",
   "metadata": {},
   "source": [
    "## Assignment #2\n",
    "## Compute Statistics\n",
    "\n",
    "* Mean, mode, and medianare three common statistics of a set of numbers.\n",
    "\n",
    "* Prompt the user with the phrase “Enter a comma separated list of numbers:”\n",
    "\n",
    "* Output on three separate lines the mean, mode, and median of the entered numbers as “Mean = ...”, “Mode = ...” and “Median = ...”. \n",
    "\n",
    "* The user may enter numbers as integers or real.\n",
    "\n",
    "* Hint : Consider using the function input()instead of raw_input()-look up on the web as to how it works."
   ]
  },
  {
   "cell_type": "code",
   "execution_count": 33,
   "metadata": {},
   "outputs": [
    {
     "name": "stdout",
     "output_type": "stream",
     "text": [
      "Enter a comma separated list of numbers: 1, 2, 2, 3\n",
      "1, 2, 2, 3\n",
      "This is the mean: 2.0\n",
      "The median is half way between 2 and 2\n",
      "That makes it:2.0\n",
      "The mode is: 2 it appeared 2 times.\n"
     ]
    }
   ],
   "source": [
    "# write your code below to compute statistics\n",
    "# get user input\n",
    "\n",
    "user_input = input('Enter a comma separated list of numbers: ')\n",
    "print(user_input)\n",
    "intList = []\n",
    "for x in user_input.split(\",\"):\n",
    "    intList.append(int(x))\n",
    "    \n",
    "#Work out the mean\n",
    "total = sum(intList)\n",
    "length = len(intList)\n",
    "mean = total/length \n",
    "print (\"This is the mean: \" + str(mean)) \n",
    "\n",
    "#Puts the numbers in order\n",
    "intList.sort()\n",
    "#print(\"List in numerical order:\" + str(intList))\n",
    "\n",
    "#Work out the median\n",
    "oddness = length%2\n",
    "half = int(length/2)\n",
    "if oddness == 1:\n",
    "    half = int(length/2)\n",
    "    \n",
    "    print(\"The median is:\"+ str(intList[half]))\n",
    "else:\n",
    "    low = (intList[half-1])\n",
    "    high = (intList[half])\n",
    "    print(\"The median is half way between\", low, \"and\", high)\n",
    "    print(\"That makes it:\"+ str((low+high)/2))\n",
    "    \n",
    "       \n",
    "#Work out the mode\n",
    "#I'm using a list again\n",
    "hits = []\n",
    "for item in intList:\n",
    "    tally = intList.count(item)\n",
    "    values = (tally, item)\n",
    "    # Only add one entry for each number in the set\n",
    "    if values not in hits:\n",
    "        hits.append(values)\n",
    "hits.sort(reverse=True)\n",
    "if hits[0][0]>hits[1][0]:\n",
    "    print(\"The mode is:\", hits[0][1], \"it appeared\", hits[0][0], \"times.\")\n",
    "else:\n",
    "    print(\"There is not a mode\")\n",
    "    \n",
    "\n"
   ]
  },
  {
   "cell_type": "markdown",
   "metadata": {},
   "source": [
    "## Assignment #3\n",
    "## Frequency Analysis of Documents on the Web\n",
    "\n",
    "* The relative frequencies (i.e. fractions of the total) of different letters in a document are very useful for a variety of purposes, such as compressing the document, encrypting it etc.\n",
    "\n",
    "* Prompt the user with the phrase “Enter a URL:”\n",
    "\n",
    "* Analyze the text at the URL, and then output a sorted (highest to lowest) listing of different English (a-z, A-Z) and numeric (0-9) characters and their respective fraction of the total one per line in the format “character fraction”.\n",
    "\n",
    "* Count upper and lowercase versions of a character to be equivalent, and ignore any characters other that a-z, A-Z, 0-9.\n",
    "\n",
    "* Print “Error reading URL” if the URL is not reachable or if it returns data of type other than something that starts with “text/”.\n"
   ]
  },
  {
   "cell_type": "code",
   "execution_count": null,
   "metadata": {},
   "outputs": [],
   "source": [
    "# write your code below to compute the frequency\n",
    "\n",
    "import requests \n",
    "\n",
    "url = input(\"Enter a URL\")\n",
    "try: \n",
    "    page = requests.get(url)\n",
    "except:\n",
    "    print(\"Error reading URL\")\n",
    "text = page.text.lower()\n",
    "lines = text.split(\"\\n\")\n",
    "\n",
    "frequencies = {}\n",
    "    \n",
    "for index, line in enumerate(lines):\n",
    "   \n",
    "    length = 0\n",
    "    for char in line:\n",
    "        if char.isalnum():\n",
    "            length += 1\n",
    "            if char not in frequencies:\n",
    "                frequencies[char] = 1\n",
    "        else:\n",
    "            frequencies[char] += 1\n",
    "l = sorted(frequencies, reverse= True, key=frequences.get)\n",
    "print(\"line #\" + str(index) + \":\")\n",
    "for char in l: \n",
    "    print(\"\\t\" + char + \":\" + str(frequencies[char]/length))\n",
    "\n"
   ]
  },
  {
   "cell_type": "code",
   "execution_count": null,
   "metadata": {},
   "outputs": [],
   "source": []
  }
 ],
 "metadata": {
  "kernelspec": {
   "display_name": "Python 3.6",
   "language": "python",
   "name": "python36"
  }
 },
 "nbformat": 4,
 "nbformat_minor": 2
}
