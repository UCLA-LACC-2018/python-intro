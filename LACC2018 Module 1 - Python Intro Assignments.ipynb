{
 "cells": [
  {
   "cell_type": "markdown",
   "metadata": {},
   "source": [
    "# LACC 2018 Module 1\n",
    "# Python Introduction\n",
    "\n",
    "This is your jupyter notebook for the first module. Feel free to edit it to your liking (notes, comments etc.)\n",
    "\n",
    "## Assignment #1\n",
    "## English Word to Pig Latin Translator\n",
    "\n",
    "* Pig Latin is a language game, where you move the first letter of the word to the end and add \"ay.\" So \"Python\" becomes \"ythonpay.\"\n",
    "\n",
    "* Prompt the user with the phrase “Enter a word:”, and then output the word entered by the user translated into Pig Latin in lowercase\n",
    "\n",
    "* If the user’s entry is empty, non-alphabetical, or has multiple word the output should be “Error: incorrect input”."
   ]
  },
  {
   "cell_type": "code",
   "execution_count": null,
   "metadata": {},
   "outputs": [],
   "source": [
    "def checkForError(input):\n",
    "    if (len(input) > 0 and input.isalpha() == True and (\" \" in input) == False):\n",
    "        translateToPigLatin(input)\n",
    "    else:\n",
    "        print (\"Error: incorrect input.\")\n",
    "\n",
    "\n",
    "def translateToPigLatin(input):\n",
    "    x = input\n",
    "    y = input[0]\n",
    "    x = x.strip(y)\n",
    "    x = ''.join((x,y,'ay'))\n",
    "    x = x.lower()\n",
    "    \n",
    "    print (x)\n",
    "    \n",
    "user_input = input(\"Pick a word to convert to Pig Latin: \")\n",
    "checkForError(user_input)"
   ]
  },
  {
   "cell_type": "markdown",
   "metadata": {},
   "source": [
    "## Assignment #2\n",
    "## Compute Statistics\n",
    "\n",
    "* Mean, mode, and medianare three common statistics of a set of numbers.\n",
    "\n",
    "* Prompt the user with the phrase “Enter a comma separated list of numbers:”\n",
    "\n",
    "* Output on three separate lines the mean, mode, and median of the entered numbers as “Mean = ...”, “Mode = ...” and “Median = ...”. \n",
    "\n",
    "* The user may enter numbers as integers or real.\n",
    "\n",
    "* Hint : Consider using the function input()instead of raw_input()-look up on the web as to how it works."
   ]
  },
  {
   "cell_type": "code",
   "execution_count": 116,
   "metadata": {},
   "outputs": [
    {
     "name": "stdout",
     "output_type": "stream",
     "text": [
      "Enter a comma separated list of numbers: 4,5,6,7\n",
      "Mean = 5.5\n",
      "Median = 5.5\n",
      "Mode = 4\n"
     ]
    }
   ],
   "source": [
    "def mean (x):\n",
    "    total = 0\n",
    "    for val in x:\n",
    "        total = total + int(val)\n",
    "    meanval = total / len(x)\n",
    "    print (\"Mean = \" + str(meanval))\n",
    "    \n",
    "    \n",
    "def calculate (x):\n",
    "    numbers = []\n",
    "    total = 0\n",
    "    numbers.sort()\n",
    "    count = len(numbers)\n",
    "    for val in x:\n",
    "        numbers.append(int(val))\n",
    "        total = total + int(val)\n",
    "    if count % 2 == 0:\n",
    "        median = ((numbers[int(count/2)]+numbers[int(count/2 - 1)]) / 2 )\n",
    "    else:   \n",
    "        median = (numbers[int(count/2)])\n",
    "    mean = total / len(x)\n",
    "    mode = max(numbers, key=lambda n: numbers.count(n))\n",
    "    print (\"Mean = \" + str(mean))\n",
    "    print (\"Median = \" + str(median))\n",
    "    print (\"Mode = \" + str(mode))\n",
    "     \n",
    "    \n",
    "user_input = input(\"Enter a comma separated list of numbers: \")\n",
    "splitversion = user_input.split(\",\")\n",
    "calculate(splitversion)\n"
   ]
  },
  {
   "cell_type": "markdown",
   "metadata": {},
   "source": [
    "## Assignment #3\n",
    "## Frequency Analysis of Documents on the Web\n",
    "\n",
    "* The relative frequencies (i.e. fractions of the total) of different letters in a document are very useful for a variety of purposes, such as compressing the document, encrypting it etc.\n",
    "\n",
    "* Prompt the user with the phrase “Enter a URL:”\n",
    "\n",
    "* Analyze the text at the URL, and then output a sorted (highest to lowest) listing of different English (a-z, A-Z) and numeric (0-9) characters and their respective fraction of the total one per line in the format “character fraction”.\n",
    "\n",
    "* Count upper and lowercase versions of a character to be equivalent, and ignore any characters other that a-z, A-Z, 0-9.\n",
    "\n",
    "* Print “Error reading URL” if the URL is not reachable or if it returns data of type other than something that starts with “text/”.\n"
   ]
  },
  {
   "cell_type": "code",
   "execution_count": null,
   "metadata": {
    "scrolled": true
   },
   "outputs": [],
   "source": [
    "def url_analyze(url):\n",
    "    import urllib\n",
    "    import collections\n",
    "    import operator\n",
    "    try: \n",
    "        ufile = urllib.request.urlopen(url) \n",
    "        if ufile.info().get_content_type() == 'text/html':\n",
    "                request = 'abcdefghijklmnopqrstuvwxyz1234567890'\n",
    "                raw_file = str(ufile.read().lower())\n",
    "                filtered_file = \"\".join([char for char in raw_file if char in request])\n",
    "                Total = len(filtered_file)\n",
    "                values = collections.Counter(filtered_file)\n",
    "                values.most_common()\n",
    "                print(values)\n",
    "                sorted_x = sorted(values.items(), key = operator.itemgetter(1), reverse = True)\n",
    "                for key, value in sorted_x:\n",
    "                    print(key, value / Total)\n",
    "    except IOError: \n",
    "        print ('problem reading url:', url)\n",
    "\n",
    "user_input = input('Enter a URL: ')\n",
    "url_analyze(user_input)\n"
   ]
  },
  {
   "cell_type": "code",
   "execution_count": null,
   "metadata": {
    "scrolled": true
   },
   "outputs": [],
   "source": []
  }
 ],
 "metadata": {
  "kernelspec": {
   "display_name": "Python 3.6",
   "language": "python",
   "name": "python36"
  },
  "language_info": {
   "codemirror_mode": {
    "name": "ipython",
    "version": 3
   },
   "file_extension": ".py",
   "mimetype": "text/x-python",
   "name": "python",
   "nbconvert_exporter": "python",
   "pygments_lexer": "ipython3",
   "version": "3.6.3"
  }
 },
 "nbformat": 4,
 "nbformat_minor": 2
}
