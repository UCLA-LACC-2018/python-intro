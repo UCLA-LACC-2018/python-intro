{
 "cells": [
  {
   "cell_type": "markdown",
   "metadata": {},
   "source": [
    "# LACC 2018 Module 1\n",
    "# Python Introduction\n",
    "\n",
    "This is your jupyter notebook for the first module. Feel free to edit it to your liking (notes, comments etc.)\n",
    "\n",
    "## Assignment #1\n",
    "## English Word to Pig Latin Translator\n",
    "\n",
    "* Pig Latin is a language game, where you move the first letter of the word to the end and add \"ay.\" So \"Python\" becomes \"ythonpay.\"\n",
    "\n",
    "* Prompt the user with the phrase “Enter a word:”, and then output the word entered by the user translated into Pig Latin in lowercase\n",
    "\n",
    "* If the user’s entry is empty, non-alphabetical, or has multiple word the output should be “Error: incorrect input”."
   ]
  },
  {
   "cell_type": "code",
   "execution_count": 7,
   "metadata": {},
   "outputs": [
    {
     "name": "stdout",
     "output_type": "stream",
     "text": [
      "Enter a word: pretty\n",
      "rettypay\n"
     ]
    }
   ],
   "source": [
    "def checkForError(input):\n",
    "    #code to check erraneous input\n",
    "    if input == \"\" or input.isalpha:\n",
    "        print (\"Error: incorrect input\")\n",
    "def translateToPigLatin(input):\n",
    "    #code to convert a word into pig latin\n",
    "    T= sub = input[1:]\n",
    "    T= T + input[0]\n",
    "    T= T+ \"ay\"\n",
    "    print (T)\n",
    "# get user input\n",
    "user_input = input (\"Enter a word: \")\n",
    "translateToPigLatin(user_input)"
   ]
  },
  {
   "cell_type": "markdown",
   "metadata": {},
   "source": [
    "## Assignment #2\n",
    "## Compute Statistics\n",
    "\n",
    "* Mean, mode, and medianare three common statistics of a set of numbers.\n",
    "\n",
    "* Prompt the user with the phrase “Enter a comma separated list of numbers:”\n",
    "\n",
    "* Output on three separate lines the mean, mode, and median of the entered numbers as “Mean = ...”, “Mode = ...” and “Median = ...”. \n",
    "\n",
    "* The user may enter numbers as integers or real.\n",
    "\n",
    "* Hint : Consider using the function input()instead of raw_input()-look up on the web as to how it works."
   ]
  },
  {
   "cell_type": "code",
   "execution_count": null,
   "metadata": {
    "scrolled": true
   },
   "outputs": [],
   "source": [
    "# write your code below to compute statistics\n",
    "def order(input): \n",
    "    input= sorted(input)\n",
    "    return input\n",
    "def mean(input): \n",
    "    C = 0\n",
    "    for i in input:\n",
    "        C+= int(i)\n",
    "    C= C/len(input)\n",
    "    return C\n",
    "def median(input):\n",
    "    if len(input)%2 == 1:\n",
    "        T= input[int(len(input)/2)]\n",
    "        return T\n",
    "    else: \n",
    "        W= input[int(len(input)/2)]\n",
    "        A= input[int(len(input)/2)-1] \n",
    "        Q= (int(W)+int(A))/2.0\n",
    "        return Q\n",
    "def mode(input): \n",
    "    J = {}\n",
    "    for i in input: \n",
    "        if i not in J:\n",
    "            J.update({i: input.count(i)})\n",
    "    S = max(J.values())    \n",
    "    for key, value in J.items():\n",
    "        if value == S:\n",
    "            return(key)\n",
    "    \n",
    "user_input = input (\"Enter a comma separated list of numbers\")\n",
    "li = user_input.split(\",\")\n",
    "print(li)\n",
    "x = order(li)\n",
    "print(x)\n",
    "y= mean(li)\n",
    "print (\"Mean: \" + str(y))\n",
    "z= median(li)\n",
    "print(\"Median: \" + str(z))\n",
    "d = mode(li)\n",
    "print(\"Mode: \" + str(d))\n"
   ]
  },
  {
   "cell_type": "markdown",
   "metadata": {},
   "source": [
    "## Assignment #3\n",
    "## Frequency Analysis of Documents on the Web\n",
    "\n",
    "* The relative frequencies (i.e. fractions of the total) of different letters in a document are very useful for a variety of purposes, such as compressing the document, encrypting it etc.\n",
    "\n",
    "* Prompt the user with the phrase “Enter a URL:”\n",
    "\n",
    "* Analyze the text at the URL, and then output a sorted (highest to lowest) listing of different English (a-z, A-Z) and numeric (0-9) characters and their respective fraction of the total one per line in the format “character fraction”.\n",
    "\n",
    "* Count upper and lowercase versions of a character to be equivalent, and ignore any characters other that a-z, A-Z, 0-9.\n",
    "\n",
    "* Print “Error reading URL” if the URL is not reachable or if it returns data of type other than something that starts with “text/”.\n"
   ]
  },
  {
   "cell_type": "code",
   "execution_count": 56,
   "metadata": {},
   "outputs": [
    {
     "name": "stdout",
     "output_type": "stream",
     "text": [
      "Enter a URLhttps://amazon.com\n",
      "{'0': 39, '3': 10, '6': 2, '9': 3, '8': 3, '2': 7, '1': 19, 'a': 134, 'x': 26, 'c': 52, 'b': 23, 'e': 136, 'd': 81, 'g': 62, 'f': 34, 'i': 111, 'h': 40, 'k': 9, 'j': 1, 'm': 72, 'l': 47, 'o': 109, 'n': 83, 'q': 1, 'p': 74, 's': 81, 'r': 99, 'u': 28, 't': 120, 'w': 14, 'v': 19, 'y': 15, '5': 12, 'z': 12, '4': 6}\n",
      "0: 0.0146012729315\n",
      "1: 0.00711344065893\n",
      "2: 0.00262074129539\n",
      "3: 0.00374391613628\n",
      "4: 0.00224634968177\n",
      "5: 0.00449269936353\n",
      "6: 0.000748783227256\n",
      "8: 0.00112317484088\n",
      "9: 0.00112317484088\n",
      "a: 0.0501684762261\n",
      "b: 0.00861100711344\n",
      "c: 0.0194683639086\n",
      "d: 0.0303257207039\n",
      "e: 0.0509172594534\n",
      "f: 0.0127293148633\n",
      "g: 0.0232122800449\n",
      "h: 0.0149756645451\n",
      "i: 0.0415574691127\n",
      "j: 0.000374391613628\n",
      "k: 0.00336952452265\n",
      "l: 0.0175964058405\n",
      "m: 0.0269561961812\n",
      "n: 0.0310745039311\n",
      "o: 0.0408086858854\n",
      "p: 0.0277049794085\n",
      "q: 0.000374391613628\n",
      "r: 0.0370647697492\n",
      "s: 0.0303257207039\n",
      "t: 0.0449269936353\n",
      "u: 0.0104829651816\n",
      "v: 0.00711344065893\n",
      "w: 0.00524148259079\n",
      "x: 0.00973418195432\n",
      "y: 0.00561587420442\n",
      "z: 0.00449269936353\n"
     ]
    }
   ],
   "source": [
    "import urllib\n",
    "# write your code below to compute the frequency\n",
    "#i/count to find freq\n",
    "#for i in L:\n",
    "    #J = {}\n",
    "    #if i not in J:\n",
    "        #J.update({i: url.count(i)})\n",
    "        #print(J)\n",
    "        \n",
    "def creatinglist(input):\n",
    "    for i in input: \n",
    "        L.append(i)\n",
    "    print(L)\n",
    "    \n",
    "user_input = raw_input(\"Enter a URL\")\n",
    "url = user_input\n",
    "try:\n",
    "    ufile = urllib.urlopen(url)\n",
    "    count = 0\n",
    "    L = []\n",
    "    for line in ufile:\n",
    "        for letter in line:  \n",
    "            letter = letter.lower()\n",
    "            count = count + 1\n",
    "            if letter.isdigit() or letter.isalpha():\n",
    "                L.append(letter)\n",
    "    J = {}\n",
    "    for letter in L:\n",
    "        if letter not in J: \n",
    "            J.update({letter: L.count(letter)})\n",
    "    print(J)\n",
    "    listkeys = J.keys()\n",
    "    listkeys = sorted(listkeys)\n",
    "    for keys in listkeys:\n",
    "        Y = J[keys]\n",
    "        freq = Y/float(count)\n",
    "        print(str(keys) + \": \" + str(freq))\n",
    "except IOError:\n",
    "    print (\"problem reading url\" , url)\n"
   ]
  },
  {
   "cell_type": "code",
   "execution_count": null,
   "metadata": {},
   "outputs": [],
   "source": []
  }
 ],
 "metadata": {
  "kernelspec": {
   "display_name": "Python 2",
   "language": "python",
   "name": "python2"
  },
  "language_info": {
   "codemirror_mode": {
    "name": "ipython",
    "version": 2
   },
   "file_extension": ".py",
   "mimetype": "text/x-python",
   "name": "python",
   "nbconvert_exporter": "python",
   "pygments_lexer": "ipython2",
   "version": "2.7.14"
  }
 },
 "nbformat": 4,
 "nbformat_minor": 2
}
