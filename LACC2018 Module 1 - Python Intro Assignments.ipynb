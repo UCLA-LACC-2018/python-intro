{
 "cells": [
  {
   "cell_type": "markdown",
   "metadata": {},
   "source": [
    "# LACC 2018 Module 1\n",
    "# Python Introduction\n",
    "\n",
    "This is your jupyter notebook for the first module. Feel free to edit it to your liking (notes, comments etc.)\n",
    "\n",
    "## Assignment #1\n",
    "## English Word to Pig Latin Translator\n",
    "\n",
    "* Pig Latin is a language game, where you move the first letter of the word to the end and add \"ay.\" So \"Python\" becomes \"ythonpay.\"\n",
    "\n",
    "* Prompt the user with the phrase “Enter a word:”, and then output the word entered by the user translated into Pig Latin in lowercase\n",
    "\n",
    "* If the user’s entry is empty, non-alphabetical, or has multiple word the output should be “Error: incorrect input”."
   ]
  },
  {
   "cell_type": "code",
   "execution_count": 2,
   "metadata": {},
   "outputs": [
    {
     "name": "stdout",
     "output_type": "stream",
     "text": [
      "Enter a word: asdf\n",
      "sdfaay\n"
     ]
    }
   ],
   "source": [
    "def checkForError(input):\n",
    "    #code to check erraneous input\n",
    "    if len(input) == 0: \n",
    "        print(\"Error: incorrect input\")\n",
    "        return False\n",
    "    if not input.isalpha():\n",
    "        print(\"Error: incorrect input\")\n",
    "        return False\n",
    "    else: return True\n",
    "def translateToPigLatin(input):\n",
    "    #code to convert a word into pig latin\n",
    "    input = input[1:] + input[:1] + \"ay\"\n",
    "    print (input)\n",
    "# get user input\n",
    "user_input = input(\"Enter a word: \")\n",
    "if checkForError(user_input): translateToPigLatin(user_input)"
   ]
  },
  {
   "cell_type": "markdown",
   "metadata": {},
   "source": [
    "## Assignment #2\n",
    "## Compute Statistics\n",
    "\n",
    "* Mean, mode, and medianare three common statistics of a set of numbers.\n",
    "\n",
    "* Prompt the user with the phrase “Enter a comma separated list of numbers:”\n",
    "\n",
    "* Output on three separate lines the mean, mode, and median of the entered numbers as “Mean = ...”, “Mode = ...” and “Median = ...”. \n",
    "\n",
    "* The user may enter numbers as integers or real.\n",
    "\n",
    "* Hint : Consider using the function input()instead of raw_input()-look up on the web as to how it works."
   ]
  },
  {
   "cell_type": "code",
   "execution_count": 4,
   "metadata": {
    "scrolled": false
   },
   "outputs": [
    {
     "name": "stdout",
     "output_type": "stream",
     "text": [
      "Enter a comma separated list of numbers: 1,2,3,4\n",
      "2.5\n",
      "Multiple modes\n",
      "2.5\n"
     ]
    }
   ],
   "source": [
    "# write your code below to compute statistics\n",
    "\n",
    "import statistics\n",
    "L = [int(x) for x in input(\"Enter a comma separated list of numbers: \").split(\",\")]\n",
    "print (statistics.mean(L))\n",
    "try:\n",
    "    print (statistics.mode(L))\n",
    "except (statistics.StatisticsError):\n",
    "    print (\"Multiple modes\")\n",
    "print (statistics.median(L))"
   ]
  },
  {
   "cell_type": "markdown",
   "metadata": {},
   "source": [
    "## Assignment #3\n",
    "## Frequency Analysis of Documents on the Web\n",
    "\n",
    "* The relative frequencies (i.e. fractions of the total) of different letters in a document are very useful for a variety of purposes, such as compressing the document, encrypting it etc.\n",
    "\n",
    "* Prompt the user with the phrase “Enter a URL:”\n",
    "\n",
    "* Analyze the text at the URL, and then output a sorted (highest to lowest) listing of different English (a-z, A-Z) and numeric (0-9) characters and their respective fraction of the total one per line in the format “character fraction”.\n",
    "\n",
    "* Count upper and lowercase versions of a character to be equivalent, and ignore any characters other that a-z, A-Z, 0-9.\n",
    "\n",
    "* Print “Error reading URL” if the URL is not reachable or if it returns data of type other than something that starts with “text/”.\n"
   ]
  },
  {
   "cell_type": "code",
   "execution_count": 95,
   "metadata": {},
   "outputs": [
    {
     "name": "stdout",
     "output_type": "stream",
     "text": [
      "Enter a URL: https://google.com\n",
      "Counter({'e': 575, 'o': 547, 't': 476, 'a': 441, 'i': 425, 'l': 424, 'n': 416, 'g': 394, 's': 361, 'c': 328, 'r': 317, 'd': 276, 'p': 247, 'b': 208, 'h': 198, '1': 187, 'f': 174, 'm': 169, 'u': 164, '2': 156, '0': 116, '3': 110, 'w': 102, 'x': 91, 'v': 87, 'y': 82, '8': 82, '4': 78, '7': 76, '5': 73, '9': 65, '6': 63, 'q': 44, 'j': 37, 'k': 32, 'z': 13})\n",
      "7634\n",
      "e 0.07532093266963584\n",
      "o 0.07165313073094053\n",
      "t 0.06235263295782028\n",
      "a 0.05776788053445114\n",
      "i 0.05567199371233953\n",
      "l 0.055541000785957556\n",
      "n 0.05449305737490175\n",
      "g 0.0516112129944983\n",
      "s 0.04728844642389311\n",
      "c 0.04296567985328792\n",
      "r 0.04152475766308619\n",
      "d 0.0361540476814252\n",
      "p 0.032355252816347914\n",
      "b 0.027246528687450876\n",
      "h 0.025936599423631124\n",
      "1 0.024495677233429394\n",
      "f 0.022792769190463715\n",
      "m 0.02213780455855384\n",
      "u 0.02148283992664396\n",
      "2 0.020434896515588157\n",
      "0 0.015195179460309143\n",
      "3 0.01440922190201729\n",
      "w 0.013361278490961487\n",
      "x 0.011920356300759759\n",
      "v 0.011396384595231858\n",
      "y 0.01074141996332198\n",
      "8 0.01074141996332198\n",
      "4 0.010217448257794078\n",
      "7 0.00995546240503013\n",
      "5 0.009562483625884202\n",
      "9 0.008514540214828399\n",
      "6 0.008252554362064448\n",
      "q 0.005763688760806916\n",
      "j 0.004846738276133089\n",
      "k 0.004191773644223212\n",
      "z 0.0017029080429656798\n"
     ]
    }
   ],
   "source": [
    "# write your code below to compute the frequency\n",
    "import urllib\n",
    "import collections\n",
    "import operator\n",
    "url = input(\"Enter a URL: \")\n",
    "try:\n",
    "    ufile = urllib.request.urlopen(url)\n",
    "    if ufile.info().get_content_type() == 'text/html':\n",
    "        alphanum = \"abcdefghijklmnopqrstuvwxyz0123456789\"\n",
    "        newfile = str(ufile.readlines()).lower()\n",
    "        newtext = \"\".join([char for char in newfile if char in alphanum])\n",
    "        #print(newtext)\n",
    "        Total = len(newtext)\n",
    "        counter = collections.Counter(newtext)\n",
    "        counter.most_common()\n",
    "        print(counter)\n",
    "        print(Total)\n",
    "        sorted_x = sorted(counter.items(), key = operator.itemgetter(1), reverse = True)\n",
    "        for key, value in sorted_x:\n",
    "            print (key, value / Total)\n",
    "\n",
    "except IOError:\n",
    "    print ('Error reading url:' + url)"
   ]
  }
 ],
 "metadata": {
  "kernelspec": {
   "display_name": "Python 3.6",
   "language": "python",
   "name": "python36"
  },
  "language_info": {
   "codemirror_mode": {
    "name": "ipython",
    "version": 3
   },
   "file_extension": ".py",
   "mimetype": "text/x-python",
   "name": "python",
   "nbconvert_exporter": "python",
   "pygments_lexer": "ipython3",
   "version": "3.6.3"
  }
 },
 "nbformat": 4,
 "nbformat_minor": 2
}
