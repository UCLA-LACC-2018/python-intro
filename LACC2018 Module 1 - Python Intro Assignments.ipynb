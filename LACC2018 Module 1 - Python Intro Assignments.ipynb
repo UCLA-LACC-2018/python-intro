{
 "cells": [
  {
   "cell_type": "markdown",
   "metadata": {},
   "source": [
    "# LACC 2018 Module 1\n",
    "# Python Introduction\n",
    "\n",
    "This is your jupyter notebook for the first module. Feel free to edit it to your liking (notes, comments etc.)\n",
    "\n",
    "## Assignment #1\n",
    "## English Word to Pig Latin Translator\n",
    "\n",
    "* Pig Latin is a language game, where you move the first letter of the word to the end and add \"ay.\" So \"Python\" becomes \"ythonpay.\"\n",
    "\n",
    "* Prompt the user with the phrase “Enter a word:”, and then output the word entered by the user translated into Pig Latin in lowercase\n",
    "\n",
    "* If the user’s entry is empty, non-alphabetical, or has multiple word the output should be “Error: incorrect input”."
   ]
  },
  {
   "cell_type": "code",
   "execution_count": null,
   "metadata": {},
   "outputs": [],
   "source": [
    "def checkForError(input):\n",
    "    #code to check erraneous input\n",
    "    if not input.isalpha():\n",
    "        return True\n",
    "    if input.find(\" \"):\n",
    "        return False\n",
    "    if len(input)  ==0:\n",
    "        return False\n",
    "def translateToPigLatin(input):\n",
    "    #code to convert a word into pig latin\n",
    "    print(user_input)\n",
    "    print(checkForError(user_input))\n",
    "# get user input\n",
    "user_input = input(\"Enter a word\")\n",
    "translateToPigLatin(user_input)"
   ]
  },
  {
   "cell_type": "code",
   "execution_count": null,
   "metadata": {},
   "outputs": [],
   "source": []
  },
  {
   "cell_type": "markdown",
   "metadata": {},
   "source": [
    "## Assignment #2\n",
    "## Compute Statistics\n",
    "\n",
    "* Mean, mode, and medianare three common statistics of a set of numbers.\n",
    "\n",
    "* Prompt the user with the phrase “Enter a comma separated list of numbers:”\n",
    "\n",
    "* Output on three separate lines the mean, mode, and median of the entered numbers as “Mean = ...”, “Mode = ...” and “Median = ...”. \n",
    "\n",
    "* The user may enter numbers as integers or real.\n",
    "\n",
    "* Hint : Consider using the function input()instead of raw_input()-look up on the web as to how it works."
   ]
  },
  {
   "cell_type": "code",
   "execution_count": 68,
   "metadata": {},
   "outputs": [
    {
     "name": "stdout",
     "output_type": "stream",
     "text": [
      "Enter a comma seperated list of numbers1,2,3,4\n",
      "2.5\n",
      "1\n",
      "2\n"
     ]
    }
   ],
   "source": [
    "# write your code below to compute statistics\n",
    "\n",
    "def Mean(input):\n",
    "    my_list = input.split(\",\")\n",
    "    y = 0\n",
    "    for x in my_list:\n",
    "        y+=int(x)\n",
    "    m = y / float(len(my_list))\n",
    "    print (m)\n",
    "def Mode(input):\n",
    "    my_list = input.split(\",\")\n",
    "    values = []\n",
    "    occurences = []\n",
    "    for x in my_list:\n",
    "        y = (int(x))\n",
    "        i = 0\n",
    "        isvalues = False\n",
    "        for z in values:\n",
    "            if z == y:\n",
    "                isvalues = True\n",
    "                break\n",
    "            i+=1\n",
    "        if isvalues ==False:\n",
    "            values.append(y)\n",
    "            occurences.append(1)\n",
    "        else: \n",
    "            occurences [i]+=1\n",
    "    max = 0\n",
    "    index = 0\n",
    "    index2 = 0\n",
    "    for q in occurences:\n",
    "        if q > max:\n",
    "            max = q\n",
    "            index = index2\n",
    "        index2+=1\n",
    "    print (values[index])\n",
    "def Median(input):\n",
    "    my_list = input.split(\",\")\n",
    "    Even = 0\n",
    "    x = len(my_list)%2 \n",
    "    if x == 0:\n",
    "        #Even\n",
    "        print(my_list[int(len(my_list)/2)-1])\n",
    "    else:\n",
    "        print(my_list[int((len(my_list)-1)/2)])\n",
    "user_input = input(\"Enter a comma seperated list of numbers\")\n",
    "Mean(user_input)\n",
    "Mode(user_input)\n",
    "Median(user_input)"
   ]
  },
  {
   "cell_type": "markdown",
   "metadata": {},
   "source": [
    "## Assignment #3\n",
    "## Frequency Analysis of Documents on the Web\n",
    "\n",
    "* The relative frequencies (i.e. fractions of the total) of different letters in a document are very useful for a variety of purposes, such as compressing the document, encrypting it etc.\n",
    "\n",
    "* Prompt the user with the phrase “Enter a URL:”\n",
    "\n",
    "* Analyze the text at the URL, and then output a sorted (highest to lowest) listing of different English (a-z, A-Z) and numeric (0-9) characters and their respective fraction of the total one per line in the format “character fraction”.\n",
    "\n",
    "* Count upper and lowercase versions of a character to be equivalent, and ignore any characters other that a-z, A-Z, 0-9.\n",
    "\n",
    "* Print “Error reading URL” if the URL is not reachable or if it returns data of type other than something that starts with “text/”.\n"
   ]
  },
  {
   "cell_type": "code",
   "execution_count": 40,
   "metadata": {
    "scrolled": true
   },
   "outputs": [
    {
     "name": "stdout",
     "output_type": "stream",
     "text": [
      "Enter a URLhttps://www.google.com/\n",
      "b'<!doctype html><html itemscope=\"\" itemtype=\"http://schema.org/WebPage\" lang=\"en-AU\"><head><meta content=\"text/html; charset=UTF-8\" http-equiv=\"Content-Type\"><meta content=\"/logos/doodles/2018/world-cup-2018-day-23-6245640538423296.3-law.gif\" itemprop=\"image\"><meta content=\"World Cup 2018 - Day 23\" property=\"twitter:title\"><meta content=\"Let the matches begin! Celebrate &#9917; around the &#127758;&#127757;&#127759; in today\\'s #GoogleDoodle!\" property=\"twitter:description\"><meta content=\"Let the matches begin! Celebrate &#9917; around the &#127758;&#127757;&#127759; in today\\'s #GoogleDoodle!\" property=\"og:description\"><meta content=\"summary_large_image\" property=\"twitter:card\"><meta content=\"@GoogleDoodles\" property=\"twitter:site\"><meta content=\"https://www.google.com/logos/doodles/2018/world-cup-2018-day-23-6245640538423296.2-2xa.gif\" property=\"twitter:image\"><meta content=\"https://www.google.com/logos/doodles/2018/world-cup-2018-day-23-6245640538423296.2-2xa.gif\" property=\"og:image\"><meta content=\"1065\" property=\"og:image:width\"><meta content=\"460\" property=\"og:image:height\"><meta content=\"https://www.google.com/logos/doodles/2018/world-cup-2018-day-23-6245640538423296.2-2xa.gif\" property=\"og:url\"><meta content=\"video.other\" property=\"og:type\"><title>Google</title><script nonce=\"4J4VFrpV9peKdlvvogaxOQ==\">(function(){window.google={kEI:\\'bCtFW7XKJJb1wAOIvLuoDA\\',kEXPI:\\'0,201837,1151123,786,58,884,770,304,1017,38,243,710,388,615,630,6,606,189,131,106,2339621,192,235,32,329294,1294,12383,2349,2506,32692,15247,867,1568,7,5117,5471,6381,3335,2,2,4604,2197,363,554,664,326,1889,2201,3191,224,502,5,346,35,129,1195,136,130,1488,3619,104,340,131,1119,2,578,728,311,1758,363,58,2,4,1296,1,1343,369,877,499,505,730,377,1240,479,1294,8,1570,773,195,1037,974,46,279,2,1124,1701,758,878,393,132,22,599,5,2,2,152,273,40,192,1092,549,193,3,773,160,398,29,272,614,283,509,1587,214,83,445,95,803,403,462,11,40,24,4,13,162,334,123,7,891,226,122,105,386,8,806,278,7,3,25,463,243,243,134,29,53,652,2,187,4,4,4,4,79,248,158,373,78,7,62,57,23,137,302,50,26,725,90,2,298,75,530,239,536,731,65,2326131,3685998,1874,680,8797786,4,1572,549,332,445,1,2,1,1,77,1,1,900,578,14,304,1,8,1,2,1,1,1600,1,29,14,22,1,1,1,285,5,13,97,13,6,20,22,1,1,1,1,1,22309801\\',authuser:0,kscs:\\'c9c918f0_bCtFW7XKJJb1wAOIvLuoDA\\',kGL:\\'AU\\'};google.kHL=\\'en-AU\\';})();google.time=function(){return(new Date).getTime()};(function(){google.lc=[];google.li=0;google.getEI=function(a){for(var b;a&&(!a.getAttribute||!(b=a.getAttribute(\"eid\")));)a=a.parentNode;return b||google.kEI};google.getLEI=function(a){for(var b=null;a&&(!a.getAttribute||!(b=a.getAttribute(\"leid\")));)a=a.parentNode;return b};google.https=function(){return\"https:\"==window.location.protocol};google.ml=function(){return null};google.wl=function(a,b){try{google.ml(Error(a),!1,b)}catch(d){}};google.log=function(a,b,d,c,g){if(a=google.logUrl(a,b,d,c,g)){b=new Image;var e=google.lc,f=google.li;e[f]=b;b.onerror=b.onload=b.onabort=function(){delete e[f]};google.vel&&google.vel.lu&&google.vel.lu(a);b.src=a;google.li=f+1}};google.logUrl=function(a,b,d,c,g){var e=\"\",f=google.ls||\"\";d||-1!=b.search(\"&ei=\")||(e=\"&ei=\"+google.getEI(c),-1==b.search(\"&lei=\")&&(c=google.getLEI(c))&&(e+=\"&lei=\"+c));c=\"\";!d&&google.cshid&&-1==b.search(\"&cshid=\")&&\"slh\"!=a&&(c=\"&cshid=\"+google.cshid);a=d||\"/\"+(g||\"gen_204\")+\"?atyp=i&ct=\"+a+\"&cad=\"+b+e+f+\"&zx=\"+google.time()+c;/^http:/i.test(a)&&google.https()&&(google.ml(Error(\"a\"),!1,{src:a,glmm:1}),a=\"\");return a};}).call(this);(function(){google.y={};google.x=function(a,b){if(a)var c=a.id;else{do c=Math.random();while(google.y[c])}google.y[c]=[a,b];return!1};google.lm=[];google.plm=function(a){google.lm.push.apply(google.lm,a)};google.lq=[];google.load=function(a,b,c){google.lq.push([[a],b,c])};google.loadAll=function(a,b){google.lq.push([a,b])};}).call(this);google.f={};</script><script nonce=\"4J4VFrpV9peKdlvvogaxOQ==\">var a=window.location,b=a.href.indexOf(\"#\");if(0<=b){var c=a.href.substring(b+1);/(^|&)q=/.test(c)&&-1==c.indexOf(\"#\")&&a.replace(\"/search?\"+c.replace(/(^|&)fp=[^&]*/g,\"\")+\"&cad=h\")};</script><style>#gbar,#guser{font-size:13px;padding-top:1px !important;}#gbar{height:22px}#guser{padding-bottom:7px !important;text-align:right}.gbh,.gbd{border-top:1px solid #c9d7f1;font-size:1px}.gbh{height:0;position:absolute;top:24px;width:100%}@media all{.gb1{height:22px;margin-right:.5em;vertical-align:top}#gbar{float:left}}a.gb1,a.gb4{text-decoration:underline !important}a.gb1,a.gb4{color:#00c !important}.gbi .gb4{color:#dd8e27 !important}.gbf .gb4{color:#900 !important}\\n'\n",
      "{'a': 0, 'b': 0, 'c': 0, 'd': 0, 'e': 0, 'f': 0, 'g': 0, 'h': 0, 'i': 0, 'j': 0, 'k': 0, 'l': 0, 'm': 0, 'n': 0, 'o': 0, 'p': 0, 'q': 0, 'r': 0, 's': 0, 't': 0, 'u': 0, 'v': 0, 'w': 0, 'x': 0, 'y': 0, 'z': 0}\n"
     ]
    }
   ],
   "source": [
    "# write your code below to compute the frequency\n",
    "import urllib\n",
    "import urllib.request    \n",
    "def wget(url):\n",
    "    try:\n",
    "        ufile = urllib.request.urlopen(url)\n",
    "        if ufile.info().get_content_type() == 'text/html':\n",
    "            print (ufile.readline()) \n",
    "        di = {'a':0,'b':0,'c':0,'d':0,'e':0,'f':0,'g':0,'h':0,'e':0,'f':0,'g':0,'h':0,'i':0,'j':0,'k':0,'l':0,'m':0,'n':0,'o':0,'p':0,'q':0,'r':0,'s':0,'t':0,'u':0,'v':0,'w':0,'x':0,'y':0,'z':0}\n",
    "        #D = {'Alphabet':'A,B,C,D,E,F,G,H,I,J,K,L,M,N,O,P,Q,R,S,T,U,V,W,X,Y,Z', 'Numbers': '0,1,2,3,4,5,6,7,8,9'}\n",
    "        for line in ufile:\n",
    "            for x in line:\n",
    "                if x in di:\n",
    "                    di[x]+=1\n",
    "        print(di) \n",
    "    except IOError:\n",
    "        print ('Error Reading URL:'), url\n",
    "    \n",
    "\n",
    "user_input = input(\"Enter a URL\")\n",
    "#wget(user_input)\n",
    "wget(user_input)"
   ]
  },
  {
   "cell_type": "code",
   "execution_count": null,
   "metadata": {},
   "outputs": [],
   "source": []
  }
 ],
 "metadata": {
  "kernelspec": {
   "display_name": "Python 3.6",
   "language": "python",
   "name": "python36"
  },
  "language_info": {
   "codemirror_mode": {
    "name": "ipython",
    "version": 3
   },
   "file_extension": ".py",
   "mimetype": "text/x-python",
   "name": "python",
   "nbconvert_exporter": "python",
   "pygments_lexer": "ipython3",
   "version": "3.6.3"
  }
 },
 "nbformat": 4,
 "nbformat_minor": 2
}
