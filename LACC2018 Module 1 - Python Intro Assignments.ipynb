{
 "cells": [
  {
   "cell_type": "markdown",
   "metadata": {},
   "source": [
    "# LACC 2018 Module 1\n",
    "# Python Introduction\n",
    "\n",
    "This is your jupyter notebook for the first module. Feel free to edit it to your liking (notes, comments etc.)\n",
    "\n",
    "## Assignment #1\n",
    "## English Word to Pig Latin Translator\n",
    "\n",
    "* Pig Latin is a language game, where you move the first letter of the word to the end and add \"ay.\" So \"Python\" becomes \"ythonpay.\"\n",
    "\n",
    "* Prompt the user with the phrase “Enter a word:”, and then output the word entered by the user translated into Pig Latin in lowercase\n",
    "\n",
    "* If the user’s entry is empty, non-alphabetical, or has multiple word the output should be “Error: incorrect input”."
   ]
  },
  {
   "cell_type": "code",
   "execution_count": 9,
   "metadata": {},
   "outputs": [
    {
     "name": "stdout",
     "output_type": "stream",
     "text": [
      "Enter a word: \n",
      "123\n"
     ]
    },
    {
     "data": {
      "text/plain": [
       "'Error: incorrect input'"
      ]
     },
     "execution_count": 9,
     "metadata": {},
     "output_type": "execute_result"
    }
   ],
   "source": [
    "def checkForError(input):\n",
    "    #code to check erraneous input\n",
    "    if len(input) == 0 or input.isalpha() == False or input.find(\" \") != -1:\n",
    "        return \"Error: incorrect input\"\n",
    "\n",
    "def translateToPigLatin(input):\n",
    "    #code to convert a word into pig latin\n",
    "    return checkForError(input)\n",
    "    input = input.lower()\n",
    "    first = input[0]\n",
    "    input = input.replace(input[0], \"\", 1)\n",
    "    return input + first + \"ay\"\n",
    "    \n",
    "# get user input\n",
    "print (\"Enter a word: \")\n",
    "user_input = input() #code to get user input\n",
    "translateToPigLatin(user_input)"
   ]
  },
  {
   "cell_type": "markdown",
   "metadata": {},
   "source": [
    "## Assignment #2\n",
    "## Compute Statistics\n",
    "\n",
    "* Mean, mode, and medianare three common statistics of a set of numbers.\n",
    "\n",
    "* Prompt the user with the phrase “Enter a comma separated list of numbers:”\n",
    "\n",
    "* Output on three separate lines the mean, mode, and median of the entered numbers as “Mean = ...”, “Mode = ...” and “Median = ...”. \n",
    "\n",
    "* The user may enter numbers as integers or real.\n",
    "\n",
    "* Hint : Consider using the function input()instead of raw_input()-look up on the web as to how it works."
   ]
  },
  {
   "cell_type": "code",
   "execution_count": 9,
   "metadata": {},
   "outputs": [
    {
     "name": "stdout",
     "output_type": "stream",
     "text": [
      "Enter a comma separated list of numbers: \n",
      "1,2,3,4\n"
     ]
    },
    {
     "data": {
      "text/plain": [
       "'Mean: 2.5 Mode: no mode Median: 2.5'"
      ]
     },
     "execution_count": 9,
     "metadata": {},
     "output_type": "execute_result"
    }
   ],
   "source": [
    "# write your code below to compute statistics\n",
    "\n",
    "#compute statistics\n",
    "def compute_statistics(input):\n",
    "    L = input.split(\",\")\n",
    "    L = list(map(int,L))\n",
    "    length = len(L)\n",
    "    sorted(L)\n",
    "    if length % 2 == 0:\n",
    "        median = (L[int(length / 2)] + L[int(length / 2 - 1)]) / 2\n",
    "    else:\n",
    "        median = L[int(length / 2)]\n",
    "    mean = str(sum(L) / length)\n",
    "    mode = L[0]\n",
    "    for x in L:\n",
    "        if L.count(x) < L.count(mode):\n",
    "            mode = x\n",
    "    if L.count(mode) == 1:\n",
    "        mode = \"no mode\"\n",
    "    return (\"Mean: \" + str(mean) + \" Mode: \" + str(mode) + \" Median: \" + str(median))\n",
    "\n",
    "#get user input\n",
    "print (\"Enter a comma separated list of numbers: \")\n",
    "user_input = input()\n",
    "compute_statistics(user_input)\n"
   ]
  },
  {
   "cell_type": "markdown",
   "metadata": {},
   "source": [
    "## Assignment #3\n",
    "## Frequency Analysis of Documents on the Web\n",
    "\n",
    "* The relative frequencies (i.e. fractions of the total) of different letters in a document are very useful for a variety of purposes, such as compressing the document, encrypting it etc.\n",
    "\n",
    "* Prompt the user with the phrase “Enter a URL:”\n",
    "\n",
    "* Analyze the text at the URL, and then output a sorted (highest to lowest) listing of different English (a-z, A-Z) and numeric (0-9) characters and their respective fraction of the total one per line in the format “character fraction”.\n",
    "\n",
    "* Count upper and lowercase versions of a character to be equivalent, and ignore any characters other that a-z, A-Z, 0-9.\n",
    "\n",
    "* Print “Error reading URL” if the URL is not reachable or if it returns data of type other than something that starts with “text/”.\n"
   ]
  },
  {
   "cell_type": "code",
   "execution_count": 25,
   "metadata": {},
   "outputs": [
    {
     "name": "stdout",
     "output_type": "stream",
     "text": [
      "Enter a URL: http://txt2html.sourceforge.net/sample.txt\n",
      "e: 787/6421\n",
      "t: 686/6421\n",
      "i: 482/6421\n",
      "a: 467/6421\n",
      "o: 459/6421\n",
      "n: 431/6421\n",
      "s: 425/6421\n",
      "l: 339/6421\n",
      "h: 329/6421\n",
      "r: 322/6421\n",
      "d: 236/6421\n",
      "m: 203/6421\n",
      "c: 167/6421\n",
      "u: 153/6421\n",
      "p: 151/6421\n",
      "w: 133/6421\n",
      "g: 120/6421\n",
      "f: 119/6421\n",
      "b: 104/6421\n",
      "y: 83/6421\n",
      "k: 47/6421\n",
      "v: 40/6421\n",
      "x: 40/6421\n",
      "z: 16/6421\n",
      "1: 16/6421\n",
      "0: 15/6421\n",
      "2: 15/6421\n",
      "q: 9/6421\n",
      "j: 6/6421\n",
      "3: 5/6421\n",
      "4: 4/6421\n",
      "5: 4/6421\n",
      "6: 4/6421\n",
      "7: 2/6421\n",
      "8: 1/6421\n",
      "9: 1/6421\n"
     ]
    }
   ],
   "source": [
    "# write your code below to compute the frequency\n",
    "\n",
    "import collections\n",
    "from six.moves.urllib.request import urlopen\n",
    "\n",
    "from string import ascii_lowercase, digits\n",
    "\n",
    "def lowercase(letter):\n",
    "    return str(letter).lower()\n",
    "\n",
    "def sec(num):\n",
    "    return num[1]\n",
    "\n",
    "#text analysis\n",
    "def text_analysis(url):\n",
    "    try:\n",
    "        file = urlopen(url).read()\n",
    "    except IOError:\n",
    "        print 'Error reading URL:', url\n",
    "    newList = list()\n",
    "    for x in file:\n",
    "        if x.isalnum() == True:\n",
    "            newList.append(x)\n",
    "    newList = list(map(lowercase, newList))\n",
    "    newL = list()\n",
    "    characters = ascii_lowercase + str(digits)\n",
    "    for x in characters:\n",
    "        newL.append((x, newList.count(x)))\n",
    "    newL.sort(reverse= True, key= sec)\n",
    "    for x in newL:\n",
    "        print (x[0] + ': ' + str(x[1]) + '/' + str(len(newList)))\n",
    "    \n",
    "#get user input\n",
    "url = raw_input(\"Enter a URL: \")\n",
    "text_analysis(url)"
   ]
  },
  {
   "cell_type": "code",
   "execution_count": null,
   "metadata": {},
   "outputs": [],
   "source": []
  }
 ],
 "metadata": {
  "kernelspec": {
   "display_name": "Python 2",
   "language": "python",
   "name": "python2"
  },
  "language_info": {
   "codemirror_mode": {
    "name": "ipython",
    "version": 2
   },
   "file_extension": ".py",
   "mimetype": "text/x-python",
   "name": "python",
   "nbconvert_exporter": "python",
   "pygments_lexer": "ipython2",
   "version": "2.7.14"
  }
 },
 "nbformat": 4,
 "nbformat_minor": 2
}
