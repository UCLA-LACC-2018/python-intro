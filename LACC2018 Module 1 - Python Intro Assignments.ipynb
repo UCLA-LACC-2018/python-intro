{
 "cells": [
  {
   "cell_type": "markdown",
   "metadata": {},
   "source": [
    "# LACC 2018 Module 1\n",
    "# Python Introduction\n",
    "\n",
    "This is your jupyter notebook for the first module. Feel free to edit it to your liking (notes, comments etc.)\n",
    "\n",
    "## Assignment #1\n",
    "## English Word to Pig Latin Translator\n",
    "\n",
    "* Pig Latin is a language game, where you move the first letter of the word to the end and add \"ay.\" So \"Python\" becomes \"ythonpay.\"\n",
    "\n",
    "* Prompt the user with the phrase “Enter a word:”, and then output the word entered by the user translated into Pig Latin in lowercase\n",
    "\n",
    "* If the user’s entry is empty, non-alphabetical, or has multiple word the output should be “Error: incorrect input”."
   ]
  },
  {
   "cell_type": "code",
   "execution_count": 21,
   "metadata": {
    "scrolled": true
   },
   "outputs": [
    {
     "name": "stdout",
     "output_type": "stream",
     "text": [
      "Enter a word: 455y\n",
      "Error: incorrect input\n"
     ]
    }
   ],
   "source": [
    "def checkForError(input):\n",
    "    #code to check erraneous input\n",
    "    if len(input) == 0 or input.isalpha() == False or \" \" in input :\n",
    "        print (\"Error: incorrect input\") \n",
    "        return False\n",
    "    else: \n",
    "        return True\n",
    "def translateToPigLatin(input):    \n",
    "    #code to convert a word into pig latin\n",
    "    y = input[1:]+input[0]\n",
    "    print (y + \"ay\")\n",
    "    \n",
    "# get user input\n",
    "user_input = input(\"Enter a word: \")\n",
    "result = checkForError(user_input)\n",
    "if result == True:\n",
    "    translateToPigLatin(user_input)"
   ]
  },
  {
   "cell_type": "markdown",
   "metadata": {},
   "source": [
    "## Assignment #2\n",
    "## Compute Statistics\n",
    "\n",
    "* Mean, mode, and medianare three common statistics of a set of numbers.\n",
    "\n",
    "* Prompt the user with the phrase “Enter a comma separated list of numbers:”\n",
    "\n",
    "* Output on three separate lines the mean, mode, and median of the entered numbers as “Mean = ...”, “Mode = ...” and “Median = ...”. \n",
    "\n",
    "* The user may enter numbers as integers or real.\n",
    "\n",
    "* Hint : Consider using the function input()instead of raw_input()-look up on the web as to how it works."
   ]
  },
  {
   "cell_type": "code",
   "execution_count": 37,
   "metadata": {},
   "outputs": [
    {
     "name": "stdout",
     "output_type": "stream",
     "text": [
      "Enter a comma separated list of numbers: 1,2,3\n",
      "Mean: 2.0\n",
      "Mode: 1\n",
      "Median: 2\n"
     ]
    }
   ],
   "source": [
    " #write your code below to compute statistics\n",
    "\n",
    "def mean(input):\n",
    "    intList =[]\n",
    "    intvers = input\n",
    "    for x in input:\n",
    "        intList.append (int(x))  \n",
    "    \n",
    "    y = sum(intvers)\n",
    "    l = len(input)\n",
    "    print (\"Mean: \"+ str(float(y)/l))\n",
    "    \n",
    "def median(input):\n",
    "    sort = sorted(input)\n",
    "    middle = len(input)/2\n",
    "    if len(sort) % 2 == 0:\n",
    "        return \"Median: \"+ str(float((sort[middle-1] + sort[middle]) / 2))\n",
    "    else:\n",
    "        print (\"Median: \" + str(sort[middle]))\n",
    "        \n",
    "    \n",
    "def mode(input):\n",
    "    print (\"Mode: \"+ str(max(input,key=input.count)))\n",
    "    \n",
    "user_input = input(\"Enter a comma separated list of numbers: \")\n",
    "\n",
    "mean(user_input)\n",
    "mode(user_input)\n",
    "median(user_input)"
   ]
  },
  {
   "cell_type": "code",
   "execution_count": null,
   "metadata": {},
   "outputs": [],
   "source": []
  },
  {
   "cell_type": "markdown",
   "metadata": {},
   "source": [
    "## Assignment #3\n",
    "## Frequency Analysis of Documents on the Web\n",
    "\n",
    "* The relative frequencies (i.e. fractions of the total) of different letters in a document are very useful for a variety of purposes, such as compressing the document, encrypting it etc.\n",
    "\n",
    "* Prompt the user with the phrase “Enter a URL:”\n",
    "\n",
    "* Analyze the text at the URL, and then output a sorted (highest to lowest) listing of different English (a-z, A-Z) and numeric (0-9) characters and their respective fraction of the total one per line in the format “character fraction”.\n",
    "\n",
    "* Count upper and lowercase versions of a character to be equivalent, and ignore any characters other that a-z, A-Z, 0-9.\n",
    "\n",
    "* Print “Error reading URL” if the URL is not reachable or if it returns data of type other than something that starts with “text/”.\n"
   ]
  },
  {
   "cell_type": "code",
   "execution_count": 36,
   "metadata": {},
   "outputs": [
    {
     "name": "stdout",
     "output_type": "stream",
     "text": [
      "Enter a URL: https://www.geeksforgeeks.org/python-statistics-median/\n",
      "0\n",
      "B-77\n",
      "D-65\n",
      "F-89\n",
      "H-38\n",
      "J-15\n",
      "L-82\n",
      "N-42\n",
      "P-156\n",
      "R-37\n",
      "T-103\n",
      "V-15\n",
      "X-8\n",
      "Z-4\n",
      "b-710\n",
      "d-1819\n",
      "f-1289\n",
      "h-1743\n",
      "j-262\n",
      "l-2315\n",
      "n-3194\n",
      "p-2081\n",
      "r-3713\n",
      "t-6253\n",
      "v-453\n",
      "x-351\n",
      "z-174\n",
      "A-191\n",
      "C-135\n",
      "E-94\n",
      "G-75\n",
      "I-51\n",
      "K-5\n",
      "M-101\n",
      "O-43\n",
      "Q-42\n",
      "S-205\n",
      "U-23\n",
      "W-15\n",
      "Y-5\n",
      "a-3766\n",
      "c-2186\n",
      "e-7174\n",
      "g-2562\n",
      "i-4008\n",
      "k-1242\n",
      "m-2397\n",
      "o-3757\n",
      "q-164\n",
      "s-4293\n",
      "u-1836\n",
      "w-1453\n",
      "y-936\n"
     ]
    }
   ],
   "source": [
    "# write your code below to compute the frequency\n",
    "import urllib2\n",
    "\n",
    "def wget(url):\n",
    "    try:\n",
    "        ufile = urllib2.urlopen(url)\n",
    "        if ufile.info().gettype() == 'text/html':\n",
    "            alpha = {\"a\":0, \"b\":0, \"c\":0, \"d\":0, \"e\":0, \"f\":0, \"g\":0, \"h\":0, \"i\":0, \"j\":0, \"k\":0, \"l\":0, \"m\":0, \"n\":0, \"o\":0, \"p\":0, \"q\":0, \"r\":0, \"s\":0, \"t\":0, \"u\":0, \"v\":0, \"w\":0, \"x\":0, \"y\":0, \"z\":0, \"A\":0, \"B\":0, \"C\":0, \"D\":0, \"E\":0, \"F\":0, \"G\":0, \"H\":0, \"I\":0, \"J\":0, \"K\":0, \"L\":0, \"M\":0, \"N\":0, \"O\":0, \"P\":0, \"Q\":0, \"R\":0, \"S\":0, \"T\":0, \"U\":0, \"V\":0, \"W\":0, \"X\":0, \"Y\":0, \"Z\":0}\n",
    "            y = ufile.read()\n",
    "            for i in y:\n",
    "                for f in alpha:\n",
    "                    if i == f:\n",
    "                        alpha[f] += 1\n",
    "            for i in alpha:\n",
    "                print i + \"-\" + str(alpha[i])\n",
    "            \n",
    "    except IOError:\n",
    "        print 'Error reading URL:', url\n",
    "\n",
    "\n",
    "user_input = raw_input(\"Enter a URL: \")\n",
    "wget(user_input)"
   ]
  },
  {
   "cell_type": "code",
   "execution_count": null,
   "metadata": {},
   "outputs": [],
   "source": []
  }
 ],
 "metadata": {
  "kernelspec": {
   "display_name": "Python 2",
   "language": "python",
   "name": "python2"
  },
  "language_info": {
   "codemirror_mode": {
    "name": "ipython",
    "version": 2
   },
   "file_extension": ".py",
   "mimetype": "text/x-python",
   "name": "python",
   "nbconvert_exporter": "python",
   "pygments_lexer": "ipython2",
   "version": "2.7.14"
  }
 },
 "nbformat": 4,
 "nbformat_minor": 2
}
