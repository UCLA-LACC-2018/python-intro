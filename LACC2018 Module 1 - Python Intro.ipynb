{
 "cells": [
  {
   "cell_type": "markdown",
   "metadata": {},
   "source": [
    "# LACC 2018 Module 1\n",
    "# Python Introduction\n",
    "\n",
    "This is your jupyter notebook for the first module. Feel free to edit it to your liking (notes, comments etc.)\n",
    "\n",
    "## Part 1: Variables, Types & Operators\n",
    "## Warm-up\n",
    "\n",
    "Let's start with something simple. Click on the cell below and assign numerical values to variables __a__ and __b__. Then press _Ctrl+Enter_ to run it and see the output. Feel free to change the values and operators and re-run."
   ]
  },
  {
   "cell_type": "code",
   "execution_count": 2,
   "metadata": {},
   "outputs": [
    {
     "name": "stdout",
     "output_type": "stream",
     "text": [
      "Sum: 65, product: 1000, difference -15, quotient: 0\n"
     ]
    }
   ],
   "source": [
    "# Assign values here\n",
    "a = 25\n",
    "b = 40\n",
    "\n",
    "c = a + b\n",
    "d = a * b\n",
    "e = a - b\n",
    "f = a / b\n",
    "\n",
    "# Don't worry about this for now, but if you want to understand how this print function works,\n",
    "# here's the breakdown:\n",
    "# 1. Multiple strings can be merged using addition operator +\n",
    "# 2. Numerical values can be converted to string by calling the str() function on them\n",
    "# 3. So we convert are results to strings and merge them with other strings to create a single one\n",
    "print(\"Sum: \" + str(c) + \", product: \" + str(d) + \", difference \" + str(e) + \", quotient: \" + str(f))\n"
   ]
  },
  {
   "cell_type": "markdown",
   "metadata": {},
   "source": [
    "Now let's quickly look at boolean variables and comparison operators. If you run the code below, you can see the results of some comparisons of variables \"a\" and \"b\" you defined above. Notice that the result of the comparison is either __True__ or __False__ - those are called boolean values.\n",
    "\n",
    "If you change the a/b variables above, remember to re-run the above cell to update those values."
   ]
  },
  {
   "cell_type": "code",
   "execution_count": 18,
   "metadata": {},
   "outputs": [
    {
     "name": "stdout",
     "output_type": "stream",
     "text": [
      "Is a equal to b? False\n",
      "Is a different than b? True\n",
      "Is a greater than b? False\n",
      "Is a less or equal than b? True\n"
     ]
    }
   ],
   "source": [
    "# You don't need to change this code in any way\n",
    "print (\"Is a equal to b? \"           + str( a == b ))\n",
    "print (\"Is a different than b? \"     + str( a != b ))\n",
    "print (\"Is a greater than b? \"       + str( a >  b ))\n",
    "print (\"Is a less or equal than b? \" + str( a <= b ))"
   ]
  },
  {
   "cell_type": "markdown",
   "metadata": {},
   "source": [
    "## Exercise 1 - Lists\n",
    "\n",
    "Now let's play around with lists a bit. A five element list __L__ is defined in the cell below. Write the code to do the following:\n",
    "* Print the second item in this list.\n",
    "* Get the sum of all the values in this list.\n",
    "* Append value 7 after value 6 into the list.\n",
    "\n",
    "To print out a numerical value, you need to convert it to a string, e.g.:<br>\n",
    "s = 4<br>\n",
    "print(\"Value of s: \" + str(s))"
   ]
  },
  {
   "cell_type": "code",
   "execution_count": 8,
   "metadata": {},
   "outputs": [
    {
     "name": "stdout",
     "output_type": "stream",
     "text": [
      "Second item in the list L is: 3\n",
      "Sum of the elements in the list is: 27\n",
      "Expanded list: [2, 3, 4, 5, 6, 7]\n"
     ]
    }
   ],
   "source": [
    "# This is list you will be working on:\n",
    "L = [ 2, 3, 4, 5, 6, 7 ]\n",
    "\n",
    "# Write your code below\n",
    "# Print the second item in this list:\n",
    "\n",
    "second = L[1]\n",
    "\n",
    "\n",
    "print (\"Second item in the list L is: \" + str(second))\n",
    "\n",
    "# Get the sum of all the values in this list:\n",
    "\n",
    "s = sum(L)\n",
    "\n",
    "print (\"Sum of the elements in the list is: \" + str(s))\n",
    "\n",
    "# Append value 7 after 6 into the list:\n",
    "\n",
    "print (\"Expanded list: \" + str(L))"
   ]
  },
  {
   "cell_type": "markdown",
   "metadata": {},
   "source": [
    "## Exercise 2 - Strings\n",
    "\n",
    "Given the string defined below, write the code to do the following:\n",
    "* Print the fifth letter in the string.\n",
    "* Capitalize all letters.\n",
    "* Replace spaces with hyphens."
   ]
  },
  {
   "cell_type": "code",
   "execution_count": 19,
   "metadata": {
    "scrolled": true
   },
   "outputs": [
    {
     "name": "stdout",
     "output_type": "stream",
     "text": [
      "Sixth letter in the string S is: i\n",
      "Capitalized string: THIS IS AN EXAMPLE STRING\n",
      "Hyphenated string: THIS-IS-AN-EXAMPLE-STRING\n"
     ]
    }
   ],
   "source": [
    "# This is the string you'll be working on:\n",
    "S = \"This is an example string\"\n",
    "\n",
    "# Write your code below\n",
    "# Print the fifth letter in the string\n",
    "\n",
    "sixth = S[5] \n",
    "\n",
    "print (\"Sixth letter in the string S is: \" + sixth)\n",
    "\n",
    "# Capitalize all letters:\n",
    "\n",
    "S = S.upper()\n",
    "print (\"Capitalized string: \" + S)\n",
    "\n",
    "# Replace spaces with hyphens\n",
    "S = S.replace(\" \", \"-\")\n",
    "print (\"Hyphenated string: \" + S)"
   ]
  },
  {
   "cell_type": "markdown",
   "metadata": {},
   "source": [
    "## Exercise 3 - Dictionaries\n",
    "\n",
    "Given the dictionaries D and E defined below, do the following:\n",
    "* Add John's and Tom's surnames with \"Surname\" as a key.\n",
    "* Change John's city to NY.\n",
    "* Create a list F with both dictionaries as it's elements.\n",
    "* Print out the age of the first person on the list F."
   ]
  },
  {
   "cell_type": "code",
   "execution_count": 43,
   "metadata": {},
   "outputs": [
    {
     "ename": "SyntaxError",
     "evalue": "invalid syntax (<ipython-input-43-06098f7db351>, line 21)",
     "output_type": "error",
     "traceback": [
      "\u001b[0;36m  File \u001b[0;32m\"<ipython-input-43-06098f7db351>\"\u001b[0;36m, line \u001b[0;32m21\u001b[0m\n\u001b[0;31m    print(\"First person on list F is: \" + F(0)[\"Age\"]) )\u001b[0m\n\u001b[0m                                                       ^\u001b[0m\n\u001b[0;31mSyntaxError\u001b[0m\u001b[0;31m:\u001b[0m invalid syntax\n"
     ]
    }
   ],
   "source": [
    "# Those are the dictionaries you will be working on\n",
    "D = {'Name': 'John', \"Age\": 17, \"City\": \"LA\" }\n",
    "E = {'Name': 'Tom',  \"Age\": 16, \"City\": \"SF\" }\n",
    "\n",
    "# Write your code below\n",
    "# Add John's and Tom's surnames with \"Surname\" as a key\n",
    "D[\"John's Surname\"] = 'Smith' \n",
    "D[\"Tom's Surname\"] = 'Tanner'\n",
    "print (\"John's surname is: \" + D[\"John's Surname\"])\n",
    "print (\"Tom's surname is: \" + D[\"Tom's Surname\"])\n",
    "\n",
    "# Change John's city to NY\n",
    "D[\"City\"] = 'NY'\n",
    "print (\"John's city is: \" + D[\"City\"])\n",
    "\n",
    "# Create a list F with both dictionaries as it's elements \n",
    "F = [D, E] \n",
    "F[0]\n",
    "\n",
    "# Print out the age of the first person on the list F \n",
    "print(\"First person on list F is: \" + F(0)[\"Age\"]))"
   ]
  },
  {
   "cell_type": "markdown",
   "metadata": {},
   "source": [
    "## Exercise 4 - Functions\n",
    "\n",
    "Write a function gte10() that does the following things:\n",
    "* The function takes a number x into the function.\n",
    "* In the function, deduct 10 from x.\n",
    "* If the result of the deduction is greater than or equal to 0, the function returns 1.\n",
    "* Otherwise, it returns 0."
   ]
  },
  {
   "cell_type": "code",
   "execution_count": 50,
   "metadata": {},
   "outputs": [
    {
     "name": "stdout",
     "output_type": "stream",
     "text": [
      "True\n",
      "True\n",
      "False\n",
      "False\n",
      "False\n"
     ]
    }
   ],
   "source": [
    "# Add function implementation here\n",
    "def gte10(x):\n",
    "    x = x-10\n",
    "    if x < 0:\n",
    "        return False\n",
    "    else: \n",
    "        return True\n",
    "        \n",
    "# Don't modify this part\n",
    "print (gte10(10))\n",
    "print (gte10(11))\n",
    "print (gte10(9))\n",
    "print (gte10(0))\n",
    "print (gte10(-1))\n",
    "\n",
    "\n",
    "\n"
   ]
  },
  {
   "cell_type": "markdown",
   "metadata": {},
   "source": [
    "## Exercise 5 - Looping\n",
    "Given the list G (of dictionaries) below, do the following:\n",
    "* Write a for loop that prints out all names.\n",
    "* Write another for loop that adds up all ages and print the sum at the end."
   ]
  },
  {
   "cell_type": "code",
   "execution_count": 2,
   "metadata": {},
   "outputs": [],
   "source": [
    "# This is the list of dictionaries you will be using\n",
    "G = [{'Name': 'John', 'Age': 17}, {'Name': 'Tom', 'Age': 16}, {'Name': \"Kate\", 'Age': 17}, {'Name': 'Laura', 'Age': 18}]\n",
    "\n",
    "# Write your code below.\n",
    "\n",
    "# Write a for loop that prints out all names.\n",
    "\n",
    "# Write another for loop that adds up all ages and print the sum at the end.\n"
   ]
  },
  {
   "cell_type": "markdown",
   "metadata": {},
   "source": [
    "## Exercise 6 - Conditional\n",
    "\n",
    "* Given the list D (of integers) below, do the following:\n",
    "* Print only those values that are even in the list"
   ]
  },
  {
   "cell_type": "code",
   "execution_count": null,
   "metadata": {
    "collapsed": true
   },
   "outputs": [],
   "source": [
    "# This is the list of integers you will be using\n",
    "D = {4,10, 13, 18, 21}\n",
    "\n",
    "# Write your code below.\n",
    "\n",
    "# Write a loop with if condition to print even values\n",
    "\n"
   ]
  }
 ],
 "metadata": {
  "kernelspec": {
   "display_name": "Python 2",
   "language": "python",
   "name": "python2"
  },
  "language_info": {
   "codemirror_mode": {
    "name": "ipython",
    "version": 2
   },
   "file_extension": ".py",
   "mimetype": "text/x-python",
   "name": "python",
   "nbconvert_exporter": "python",
   "pygments_lexer": "ipython2",
   "version": "2.7.14"
  }
 },
 "nbformat": 4,
 "nbformat_minor": 2
}
