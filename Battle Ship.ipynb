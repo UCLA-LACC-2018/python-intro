{
 "cells": [
  {
   "cell_type": "code",
   "execution_count": 19,
   "metadata": {},
   "outputs": [
    {
     "name": "stdout",
     "output_type": "stream",
     "text": [
      "How many rows would you like?2\n",
      "How many columns would you like?2\n",
      "X X\n",
      "X X\n"
     ]
    }
   ],
   "source": [
    "from random import randint\n",
    "R=[]\n",
    "def pickBattleShip:\n",
    "    rowSpot=random.randint(0,row)\n",
    "    columnSpot=random.randint(0,column)\n",
    "user_input = raw_input(\"How many rows would you like?\")\n",
    "rows=user_input\n",
    "user_input = raw_input(\"How many columns would you like?\")\n",
    "columns=user_input\n",
    "for i in range(int(rows)):\n",
    "    R.append([ 'X' ]*int(columns))\n",
    "for row in R:\n",
    "     print \" \".join(row)\n",
    "for h in rows/2.0:\n",
    "    user_input = raw_input(\"What row?\")\n",
    "    targetR= user_input\n",
    "    \n",
    "\n",
    "\n",
    "    \n",
    "    "
   ]
  },
  {
   "cell_type": "code",
   "execution_count": null,
   "metadata": {},
   "outputs": [],
   "source": []
  }
 ],
 "metadata": {
  "kernelspec": {
   "display_name": "Python 2",
   "language": "python",
   "name": "python2"
  },
  "language_info": {
   "codemirror_mode": {
    "name": "ipython",
    "version": 2
   },
   "file_extension": ".py",
   "mimetype": "text/x-python",
   "name": "python",
   "nbconvert_exporter": "python",
   "pygments_lexer": "ipython2",
   "version": "2.7.14"
  }
 },
 "nbformat": 4,
 "nbformat_minor": 2
}
