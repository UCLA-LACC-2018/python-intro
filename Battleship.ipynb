{
 "cells": [
  {
   "cell_type": "code",
   "execution_count": 22,
   "metadata": {},
   "outputs": [
    {
     "name": "stdout",
     "output_type": "stream",
     "text": [
      "Welcome to Battleship!\n",
      "Enter a coorresponding number:\n",
      "1. Play Game\n",
      "99. Exit Game\n",
      "1\n",
      "test\n",
      "[[0 0 0 0 0 0 0 0 0 0]\n",
      " [0 0 0 0 0 0 0 0 0 0]\n",
      " [0 0 0 0 0 0 0 0 0 0]\n",
      " [0 0 0 0 0 0 0 0 0 0]\n",
      " [0 0 0 0 0 0 0 0 0 0]\n",
      " [0 0 0 0 0 0 0 0 0 0]\n",
      " [0 0 0 0 0 0 0 0 0 0]\n",
      " [0 0 0 0 0 0 0 0 0 0]\n",
      " [0 0 0 0 0 0 0 0 0 0]\n",
      " [0 0 0 0 0 0 0 0 0 0]]\n",
      "Welcome to Battleship!\n",
      "Enter a coorresponding number:\n",
      "1. Play Game\n",
      "99. Exit Game\n",
      "99\n",
      "Goodbye!\n"
     ]
    }
   ],
   "source": [
    "import numpy as np\n",
    "\n",
    "def place_ships(input):\n",
    "    print (\"test\")\n",
    "    \n",
    "def play_game(input):\n",
    "    print (\"test\")\n",
    "    Matrix = [[0 for x in range(10)] for y in range(10)] \n",
    "    #print (Matrix)\n",
    "    print(np.matrix(Matrix))\n",
    "\n",
    "def create_game(input):\n",
    "    print (\"test\")\n",
    "    \n",
    "count = 0\n",
    "while(int(count) != 99):\n",
    "    #count is taken as a string so you must use int(count) to get the integer value of the input\n",
    "    count = input(\"Welcome to Battleship!\" + \"\\n\" + \"Enter a coorresponding number:\" + \n",
    "                  \"\\n\" + \"1. Play Game\" + \"\\n\" + \"99. Exit Game\" + \"\\n\")\n",
    "\n",
    "    if int(count) == 1:\n",
    "        play_game(count)\n",
    "    elif int(count) == 99:\n",
    "        #print (\"test1\")\n",
    "        break\n",
    "        \n",
    "print (\"Goodbye!\")"
   ]
  },
  {
   "cell_type": "code",
   "execution_count": null,
   "metadata": {},
   "outputs": [],
   "source": []
  }
 ],
 "metadata": {
  "kernelspec": {
   "display_name": "Python 3.6",
   "language": "python",
   "name": "python36"
  },
  "language_info": {
   "codemirror_mode": {
    "name": "ipython",
    "version": 3
   },
   "file_extension": ".py",
   "mimetype": "text/x-python",
   "name": "python",
   "nbconvert_exporter": "python",
   "pygments_lexer": "ipython3",
   "version": "3.6.3"
  }
 },
 "nbformat": 4,
 "nbformat_minor": 2
}
